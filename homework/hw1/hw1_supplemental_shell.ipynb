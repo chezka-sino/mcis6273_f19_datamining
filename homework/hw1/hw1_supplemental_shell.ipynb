{
 "cells": [
  {
   "cell_type": "markdown",
   "metadata": {},
   "source": [
    "# Shell Commands\n",
    "\n",
    "Shell escaping allows you to run shell commands from within your notebook.  They are an easy way to integrate commands into the notebook when you do not want to go to the command line to do so.  Use Magic commands with caution, as they can make your notebook incompatible across operating systems (i.e. Windows does not have commands like `curl` unless they are explicitly installed).\n",
    "\n",
    "To run a shell command, prepend your cell with a `!` and then type your command.  Here are some examples:"
   ]
  },
  {
   "cell_type": "code",
   "execution_count": 1,
   "metadata": {},
   "outputs": [
    {
     "name": "stdout",
     "output_type": "stream",
     "text": [
      "entries.csv\t\t      nb2.ipynb\n",
      "hw1_supplemental.ipynb\t      openpowerlifting-2019-10-24\n",
      "hw1_supplemental_shell.ipynb  openpowerlifting-latest.zip\n",
      "nb1.ipynb\n"
     ]
    }
   ],
   "source": [
    "# get a directory listing\n",
    "!ls"
   ]
  },
  {
   "cell_type": "code",
   "execution_count": 2,
   "metadata": {},
   "outputs": [
    {
     "name": "stdout",
     "output_type": "stream",
     "text": [
      "--2019-11-20 16:59:28--  https://gitlab.com/openpowerlifting/opl-data/raw/master/meet-data/aap/1201/entries.csv\n",
      "Resolving gitlab.com (gitlab.com)... 35.231.145.151\n",
      "Connecting to gitlab.com (gitlab.com)|35.231.145.151|:443... connected.\n",
      "HTTP request sent, awaiting response... 200 OK\n",
      "Length: 14749 (14K) [text/plain]\n",
      "Saving to: ‘entries.csv.1’\n",
      "\n",
      "entries.csv.1       100%[===================>]  14.40K  --.-KB/s    in 0s      \n",
      "\n",
      "2019-11-20 16:59:28 (112 MB/s) - ‘entries.csv.1’ saved [14749/14749]\n",
      "\n"
     ]
    }
   ],
   "source": [
    "# grab a file from the web\n",
    "!wget https://gitlab.com/openpowerlifting/opl-data/raw/master/meet-data/aap/1201/entries.csv"
   ]
  },
  {
   "cell_type": "code",
   "execution_count": 3,
   "metadata": {},
   "outputs": [
    {
     "name": "stdout",
     "output_type": "stream",
     "text": [
      "Division,BodyweightKg,Sex,WeightClassKg,Name,Event,Equipment,Team,Squat1Kg,Squat2Kg,Squat3Kg,Squat4Kg,Best3SquatKg,Bench1Kg,Bench2Kg,Bench3Kg,Bench4Kg,Best3BenchKg,Deadlift1Kg,Deadlift2Kg,Deadlift3Kg,Deadlift4Kg,Best3DeadliftKg,TotalKg,Place\n",
      "M 45-49,73.3,F,75,Mercedes Lezcano,B,Raw,Indoor,,,,,,-85,85,90,95,90,,,,,,90,1\n",
      "Open,81.2,F,82.5,Flavia Torres,B,Raw,Big Gym,,,,,,40,45,50,,50,,,,,,50,1\n",
      "Open,57.8,M,60,Guillermo Amodeo,B,Raw,Sport Gym,,,,,,75,77.5,85,87.5,85,,,,,,85,1\n",
      "Jun,81.2,F,82.5,Flavia Torres,B,Raw,Big Gym,,,,,,40,45,50,,50,,,,,,50,1\n",
      "SubM,57.8,M,60,Guillermo Amodeo,B,Raw,Sport Gym,,,,,,75,77.5,85,87.5,85,,,,,,85,1\n",
      "Open,67.2,M,67.5,Marcos Villagra,B,Raw,Performan,,,,,,100,110,-115,,110,,,,,,110,1\n",
      "Open,62,M,67.5,Nicandro Zapata,B,Raw,Region N° 6,,,,,,75,82.5,-90,,82.5,,,,,,82.5,2\n",
      "M 40-44,67,M,67.5,Mario Bianchi,B,Raw,Soria,,,,,,95,105,110,113,110,,,,,,110,1\n",
      "Jun,73.4,M,75,Jonathan Reyes,B,Raw,Extremo gym,,,,,,110,120,122.5,-125,122.5,,,,,,122.5,1\n"
     ]
    }
   ],
   "source": [
    "# get the head of the file\n",
    "!head entries.csv.1"
   ]
  },
  {
   "cell_type": "code",
   "execution_count": 4,
   "metadata": {},
   "outputs": [
    {
     "name": "stdout",
     "output_type": "stream",
     "text": [
      "--2019-11-20 16:59:34--  https://github.com/kmsaumcis/mcis6273_f19_datamining/archive/master.zip\n",
      "Resolving github.com (github.com)... 140.82.113.4\n",
      "Connecting to github.com (github.com)|140.82.113.4|:443... connected.\n",
      "HTTP request sent, awaiting response... 302 Found\n",
      "Location: https://codeload.github.com/kmsaumcis/mcis6273_f19_datamining/zip/master [following]\n",
      "--2019-11-20 16:59:34--  https://codeload.github.com/kmsaumcis/mcis6273_f19_datamining/zip/master\n",
      "Resolving codeload.github.com (codeload.github.com)... 192.30.253.120\n",
      "Connecting to codeload.github.com (codeload.github.com)|192.30.253.120|:443... connected.\n",
      "HTTP request sent, awaiting response... 200 OK\n",
      "Length: unspecified [application/zip]\n",
      "Saving to: ‘master.zip’\n",
      "\n",
      "master.zip              [ <=>                ]  34.22K  --.-KB/s    in 0.05s   \n",
      "\n",
      "2019-11-20 16:59:34 (701 KB/s) - ‘master.zip’ saved [35037]\n",
      "\n"
     ]
    }
   ],
   "source": [
    "# download a zip file\n",
    "!wget https://github.com/kmsaumcis/mcis6273_f19_datamining/archive/master.zip"
   ]
  },
  {
   "cell_type": "code",
   "execution_count": 5,
   "metadata": {},
   "outputs": [
    {
     "name": "stdout",
     "output_type": "stream",
     "text": [
      "Archive:  master.zip\n",
      "9cdc4c6d17646c4d1f91715a711113f5b9172e11\n",
      "   creating: mcis6273_f19_datamining-master/\n",
      " extracting: mcis6273_f19_datamining-master/.gitignore  \n",
      " extracting: mcis6273_f19_datamining-master/README.md  \n",
      "   creating: mcis6273_f19_datamining-master/homework/\n",
      " extracting: mcis6273_f19_datamining-master/homework/README.md  \n",
      "   creating: mcis6273_f19_datamining-master/homework/hw0/\n",
      "  inflating: mcis6273_f19_datamining-master/homework/hw0/hw0.ipynb  \n",
      "  inflating: mcis6273_f19_datamining-master/homework/hw0/sample_graph.png  \n",
      "   creating: mcis6273_f19_datamining-master/homework/hw1/\n",
      " extracting: mcis6273_f19_datamining-master/homework/hw1/.gitignore  \n",
      "  inflating: mcis6273_f19_datamining-master/homework/hw1/hw1_supplemental.ipynb  \n"
     ]
    }
   ],
   "source": [
    "# unzip the download\n",
    "!unzip master.zip"
   ]
  },
  {
   "cell_type": "code",
   "execution_count": null,
   "metadata": {},
   "outputs": [],
   "source": []
  }
 ],
 "metadata": {
  "kernelspec": {
   "display_name": "Python 3",
   "language": "python",
   "name": "python3"
  },
  "language_info": {
   "codemirror_mode": {
    "name": "ipython",
    "version": 3
   },
   "file_extension": ".py",
   "mimetype": "text/x-python",
   "name": "python",
   "nbconvert_exporter": "python",
   "pygments_lexer": "ipython3",
   "version": "3.7.3"
  }
 },
 "nbformat": 4,
 "nbformat_minor": 4
}
