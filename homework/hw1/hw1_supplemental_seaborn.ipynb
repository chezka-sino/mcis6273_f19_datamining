{
 "cells": [
  {
   "cell_type": "code",
   "execution_count": 1,
   "metadata": {},
   "outputs": [],
   "source": [
    "%matplotlib inline\n",
    "import pandas as pd\n",
    "import seaborn as sns"
   ]
  },
  {
   "cell_type": "code",
   "execution_count": 2,
   "metadata": {},
   "outputs": [],
   "source": [
    "df = pd.read_csv(\"./entries.csv\")"
   ]
  },
  {
   "cell_type": "code",
   "execution_count": 3,
   "metadata": {},
   "outputs": [
    {
     "data": {
      "text/plain": [
       "(89, 12)"
      ]
     },
     "execution_count": 3,
     "metadata": {},
     "output_type": "execute_result"
    }
   ],
   "source": [
    "df.shape"
   ]
  },
  {
   "cell_type": "code",
   "execution_count": 4,
   "metadata": {},
   "outputs": [
    {
     "data": {
      "text/html": [
       "<div>\n",
       "<style scoped>\n",
       "    .dataframe tbody tr th:only-of-type {\n",
       "        vertical-align: middle;\n",
       "    }\n",
       "\n",
       "    .dataframe tbody tr th {\n",
       "        vertical-align: top;\n",
       "    }\n",
       "\n",
       "    .dataframe thead th {\n",
       "        text-align: right;\n",
       "    }\n",
       "</style>\n",
       "<table border=\"1\" class=\"dataframe\">\n",
       "  <thead>\n",
       "    <tr style=\"text-align: right;\">\n",
       "      <th></th>\n",
       "      <th>Name</th>\n",
       "      <th>BodyweightKg</th>\n",
       "      <th>WeightClassKg</th>\n",
       "      <th>Division</th>\n",
       "      <th>Best3SquatKg</th>\n",
       "      <th>Best3BenchKg</th>\n",
       "      <th>Best3DeadliftKg</th>\n",
       "      <th>TotalKg</th>\n",
       "      <th>Place</th>\n",
       "      <th>Event</th>\n",
       "      <th>Sex</th>\n",
       "      <th>Equipment</th>\n",
       "    </tr>\n",
       "  </thead>\n",
       "  <tbody>\n",
       "    <tr>\n",
       "      <th>0</th>\n",
       "      <td>Alexandra Cardoso</td>\n",
       "      <td>47.7</td>\n",
       "      <td>48.0</td>\n",
       "      <td>Open</td>\n",
       "      <td>85.0</td>\n",
       "      <td>42.5</td>\n",
       "      <td>102.5</td>\n",
       "      <td>230.0</td>\n",
       "      <td>1</td>\n",
       "      <td>SBD</td>\n",
       "      <td>F</td>\n",
       "      <td>Raw</td>\n",
       "    </tr>\n",
       "    <tr>\n",
       "      <th>1</th>\n",
       "      <td>Silvia Martinez</td>\n",
       "      <td>56.0</td>\n",
       "      <td>56.0</td>\n",
       "      <td>Junior</td>\n",
       "      <td>125.0</td>\n",
       "      <td>70.0</td>\n",
       "      <td>160.0</td>\n",
       "      <td>355.0</td>\n",
       "      <td>1</td>\n",
       "      <td>SBD</td>\n",
       "      <td>F</td>\n",
       "      <td>Raw</td>\n",
       "    </tr>\n",
       "    <tr>\n",
       "      <th>2</th>\n",
       "      <td>Patricia Mendes</td>\n",
       "      <td>58.2</td>\n",
       "      <td>60.0</td>\n",
       "      <td>Open</td>\n",
       "      <td>120.0</td>\n",
       "      <td>65.0</td>\n",
       "      <td>142.5</td>\n",
       "      <td>327.5</td>\n",
       "      <td>1</td>\n",
       "      <td>SBD</td>\n",
       "      <td>F</td>\n",
       "      <td>Raw</td>\n",
       "    </tr>\n",
       "    <tr>\n",
       "      <th>3</th>\n",
       "      <td>Daniela Dias</td>\n",
       "      <td>55.6</td>\n",
       "      <td>56.0</td>\n",
       "      <td>Open</td>\n",
       "      <td>100.0</td>\n",
       "      <td>55.0</td>\n",
       "      <td>145.0</td>\n",
       "      <td>300.0</td>\n",
       "      <td>2</td>\n",
       "      <td>SBD</td>\n",
       "      <td>F</td>\n",
       "      <td>Raw</td>\n",
       "    </tr>\n",
       "    <tr>\n",
       "      <th>4</th>\n",
       "      <td>Maria Lopes</td>\n",
       "      <td>76.0</td>\n",
       "      <td>82.5</td>\n",
       "      <td>M 50-54</td>\n",
       "      <td>90.0</td>\n",
       "      <td>55.0</td>\n",
       "      <td>130.0</td>\n",
       "      <td>275.0</td>\n",
       "      <td>1</td>\n",
       "      <td>SBD</td>\n",
       "      <td>F</td>\n",
       "      <td>Raw</td>\n",
       "    </tr>\n",
       "  </tbody>\n",
       "</table>\n",
       "</div>"
      ],
      "text/plain": [
       "                Name  BodyweightKg  WeightClassKg Division  Best3SquatKg  \\\n",
       "0  Alexandra Cardoso          47.7           48.0     Open          85.0   \n",
       "1    Silvia Martinez          56.0           56.0   Junior         125.0   \n",
       "2    Patricia Mendes          58.2           60.0     Open         120.0   \n",
       "3       Daniela Dias          55.6           56.0     Open         100.0   \n",
       "4        Maria Lopes          76.0           82.5  M 50-54          90.0   \n",
       "\n",
       "   Best3BenchKg  Best3DeadliftKg  TotalKg  Place Event Sex Equipment  \n",
       "0          42.5            102.5    230.0      1   SBD   F       Raw  \n",
       "1          70.0            160.0    355.0      1   SBD   F       Raw  \n",
       "2          65.0            142.5    327.5      1   SBD   F       Raw  \n",
       "3          55.0            145.0    300.0      2   SBD   F       Raw  \n",
       "4          55.0            130.0    275.0      1   SBD   F       Raw  "
      ]
     },
     "execution_count": 4,
     "metadata": {},
     "output_type": "execute_result"
    }
   ],
   "source": [
    "df.head()"
   ]
  },
  {
   "cell_type": "code",
   "execution_count": 5,
   "metadata": {},
   "outputs": [
    {
     "data": {
      "text/plain": [
       "Index(['Name', 'BodyweightKg', 'WeightClassKg', 'Division', 'Best3SquatKg',\n",
       "       'Best3BenchKg', 'Best3DeadliftKg', 'TotalKg', 'Place', 'Event', 'Sex',\n",
       "       'Equipment'],\n",
       "      dtype='object')"
      ]
     },
     "execution_count": 5,
     "metadata": {},
     "output_type": "execute_result"
    }
   ],
   "source": [
    "df.columns"
   ]
  },
  {
   "cell_type": "code",
   "execution_count": 7,
   "metadata": {},
   "outputs": [
    {
     "data": {
      "text/plain": [
       "<matplotlib.axes._subplots.AxesSubplot at 0x7f7c45415e48>"
      ]
     },
     "execution_count": 7,
     "metadata": {},
     "output_type": "execute_result"
    },
    {
     "data": {
      "image/png": "[encoded data removed]",
      "text/plain": [
       "<Figure size 432x288 with 1 Axes>"
      ]
     },
     "metadata": {
      "needs_background": "light"
     },
     "output_type": "display_data"
    }
   ],
   "source": [
    "df.loc[:,['BodyweightKg', 'Best3BenchKg']].plot(kind='scatter', x='Best3BenchKg', y='BodyweightKg')"
   ]
  },
  {
   "cell_type": "code",
   "execution_count": 10,
   "metadata": {},
   "outputs": [],
   "source": [
    "bench_to_weight = df.loc[:,['BodyweightKg', 'Best3BenchKg', 'Sex']]"
   ]
  },
  {
   "cell_type": "code",
   "execution_count": 11,
   "metadata": {},
   "outputs": [
    {
     "data": {
      "text/plain": [
       "<matplotlib.axes._subplots.AxesSubplot at 0x7f7c451b6898>"
      ]
     },
     "execution_count": 11,
     "metadata": {},
     "output_type": "execute_result"
    },
    {
     "data": {
      "image/png": "[encoded data removed]",
      "text/plain": [
       "<Figure size 432x288 with 1 Axes>"
      ]
     },
     "metadata": {
      "needs_background": "light"
     },
     "output_type": "display_data"
    }
   ],
   "source": [
    "sns.scatterplot(x='Best3BenchKg', y='BodyweightKg', data=bench_to_weight)"
   ]
  },
  {
   "cell_type": "code",
   "execution_count": 12,
   "metadata": {},
   "outputs": [
    {
     "data": {
      "text/plain": [
       "<matplotlib.axes._subplots.AxesSubplot at 0x7f7c45127eb8>"
      ]
     },
     "execution_count": 12,
     "metadata": {},
     "output_type": "execute_result"
    },
    {
     "data": {
      "image/png": "[encoded data removed]",
      "text/plain": [
       "<Figure size 432x288 with 1 Axes>"
      ]
     },
     "metadata": {
      "needs_background": "light"
     },
     "output_type": "display_data"
    }
   ],
   "source": [
    "sns.scatterplot(x='Best3BenchKg', y='BodyweightKg', hue='Sex', data=bench_to_weight)"
   ]
  },
  {
   "cell_type": "code",
   "execution_count": 13,
   "metadata": {},
   "outputs": [
    {
     "data": {
      "text/plain": [
       "<seaborn.axisgrid.FacetGrid at 0x7f7c41fc4ac8>"
      ]
     },
     "execution_count": 13,
     "metadata": {},
     "output_type": "execute_result"
    },
    {
     "data": {
      "image/png": "[encoded data removed]",
      "text/plain": [
       "<Figure size 404.625x360 with 1 Axes>"
      ]
     },
     "metadata": {
      "needs_background": "light"
     },
     "output_type": "display_data"
    }
   ],
   "source": [
    "sns.lmplot(x='Best3BenchKg', y='BodyweightKg', hue='Sex', data=bench_to_weight)"
   ]
  },
  {
   "cell_type": "code",
   "execution_count": 14,
   "metadata": {},
   "outputs": [
    {
     "name": "stdout",
     "output_type": "stream",
     "text": [
      "--2019-11-24 22:18:33--  https://github.com/mwaskom/seaborn/archive/v0.9.0.zip\n",
      "Resolving github.com (github.com)... 140.82.114.4\n",
      "Connecting to github.com (github.com)|140.82.114.4|:443... connected.\n",
      "HTTP request sent, awaiting response... 302 Found\n",
      "Location: https://codeload.github.com/mwaskom/seaborn/zip/v0.9.0 [following]\n",
      "--2019-11-24 22:18:33--  https://codeload.github.com/mwaskom/seaborn/zip/v0.9.0\n",
      "Resolving codeload.github.com (codeload.github.com)... 140.82.114.9\n",
      "Connecting to codeload.github.com (codeload.github.com)|140.82.114.9|:443... connected.\n",
      "HTTP request sent, awaiting response... 200 OK\n",
      "Length: unspecified [application/zip]\n",
      "Saving to: ‘v0.9.0.zip.1’\n",
      "\n",
      "v0.9.0.zip.1            [ <=>                ] 323.70K  --.-KB/s    in 0.1s    \n",
      "\n",
      "2019-11-24 22:18:33 (3.08 MB/s) - ‘v0.9.0.zip.1’ saved [331469]\n",
      "\n"
     ]
    }
   ],
   "source": [
    "!wget https://github.com/mwaskom/seaborn/archive/v0.9.0.zip"
   ]
  },
  {
   "cell_type": "code",
   "execution_count": 15,
   "metadata": {},
   "outputs": [
    {
     "name": "stdout",
     "output_type": "stream",
     "text": [
      "Archive:  v0.9.0.zip\n",
      "3eb463a2cd32db196b6e71d1f72d64057804ed76\n",
      "   creating: seaborn-0.9.0/\n",
      "  inflating: seaborn-0.9.0/.coveragerc  \n",
      "   creating: seaborn-0.9.0/.github/\n",
      "  inflating: seaborn-0.9.0/.github/CONTRIBUTING.md  \n",
      "  inflating: seaborn-0.9.0/.gitignore  \n",
      "  inflating: seaborn-0.9.0/.mailmap  \n",
      "  inflating: seaborn-0.9.0/.travis.yml  \n",
      "  inflating: seaborn-0.9.0/LICENSE   \n",
      "  inflating: seaborn-0.9.0/MANIFEST.in  \n",
      "  inflating: seaborn-0.9.0/Makefile  \n",
      "  inflating: seaborn-0.9.0/README.md  \n",
      "   creating: seaborn-0.9.0/doc/\n",
      "  inflating: seaborn-0.9.0/doc/.gitignore  \n",
      "  inflating: seaborn-0.9.0/doc/Makefile  \n",
      "   creating: seaborn-0.9.0/doc/_static/\n",
      "  inflating: seaborn-0.9.0/doc/_static/copybutton.js  \n",
      "  inflating: seaborn-0.9.0/doc/_static/favicon.ico  \n",
      "  inflating: seaborn-0.9.0/doc/_static/style.css  \n",
      "   creating: seaborn-0.9.0/doc/_templates/\n",
      "   creating: seaborn-0.9.0/doc/_templates/autosummary/\n",
      "  inflating: seaborn-0.9.0/doc/_templates/autosummary/base.rst  \n",
      "  inflating: seaborn-0.9.0/doc/_templates/autosummary/class.rst  \n",
      "  inflating: seaborn-0.9.0/doc/api.rst  \n",
      "  inflating: seaborn-0.9.0/doc/conf.py  \n",
      "  inflating: seaborn-0.9.0/doc/index.rst  \n",
      "  inflating: seaborn-0.9.0/doc/installing.rst  \n",
      "  inflating: seaborn-0.9.0/doc/introduction.ipynb  \n",
      "   creating: seaborn-0.9.0/doc/releases/\n",
      "  inflating: seaborn-0.9.0/doc/releases/v0.2.0.txt  \n",
      "  inflating: seaborn-0.9.0/doc/releases/v0.2.1.txt  \n",
      "  inflating: seaborn-0.9.0/doc/releases/v0.3.0.txt  \n",
      "  inflating: seaborn-0.9.0/doc/releases/v0.3.1.txt  \n",
      "  inflating: seaborn-0.9.0/doc/releases/v0.4.0.txt  \n",
      "  inflating: seaborn-0.9.0/doc/releases/v0.5.0.txt  \n",
      "  inflating: seaborn-0.9.0/doc/releases/v0.5.1.txt  \n",
      "  inflating: seaborn-0.9.0/doc/releases/v0.6.0.txt  \n",
      "  inflating: seaborn-0.9.0/doc/releases/v0.7.0.txt  \n",
      "  inflating: seaborn-0.9.0/doc/releases/v0.7.1.txt  \n",
      "  inflating: seaborn-0.9.0/doc/releases/v0.8.0.txt  \n",
      "  inflating: seaborn-0.9.0/doc/releases/v0.8.1.txt  \n",
      "  inflating: seaborn-0.9.0/doc/releases/v0.9.0.txt  \n",
      "   creating: seaborn-0.9.0/doc/sphinxext/\n",
      "  inflating: seaborn-0.9.0/doc/sphinxext/gallery_generator.py  \n",
      "   creating: seaborn-0.9.0/doc/tools/\n",
      "  inflating: seaborn-0.9.0/doc/tools/nb_to_doc.py  \n",
      "  inflating: seaborn-0.9.0/doc/tutorial.rst  \n",
      "   creating: seaborn-0.9.0/doc/tutorial/\n",
      "  inflating: seaborn-0.9.0/doc/tutorial/Makefile  \n",
      "  inflating: seaborn-0.9.0/doc/tutorial/aesthetics.ipynb  \n",
      "  inflating: seaborn-0.9.0/doc/tutorial/axis_grids.ipynb  \n",
      "  inflating: seaborn-0.9.0/doc/tutorial/categorical.ipynb  \n",
      "  inflating: seaborn-0.9.0/doc/tutorial/color_palettes.ipynb  \n",
      "  inflating: seaborn-0.9.0/doc/tutorial/distributions.ipynb  \n",
      "  inflating: seaborn-0.9.0/doc/tutorial/regression.ipynb  \n",
      "  inflating: seaborn-0.9.0/doc/tutorial/relational.ipynb  \n",
      "  inflating: seaborn-0.9.0/doc/whatsnew.rst  \n",
      "   creating: seaborn-0.9.0/examples/\n",
      " extracting: seaborn-0.9.0/examples/.gitignore  \n",
      "  inflating: seaborn-0.9.0/examples/anscombes_quartet.py  \n",
      "  inflating: seaborn-0.9.0/examples/color_palettes.py  \n",
      "  inflating: seaborn-0.9.0/examples/cubehelix_palette.py  \n",
      "  inflating: seaborn-0.9.0/examples/different_scatter_variables.py  \n",
      "  inflating: seaborn-0.9.0/examples/distplot_options.py  \n",
      "  inflating: seaborn-0.9.0/examples/errorband_lineplots.py  \n",
      "  inflating: seaborn-0.9.0/examples/facet_projections.py  \n",
      "  inflating: seaborn-0.9.0/examples/faceted_histogram.py  \n",
      "  inflating: seaborn-0.9.0/examples/faceted_lineplot.py  \n",
      "  inflating: seaborn-0.9.0/examples/grouped_barplot.py  \n",
      "  inflating: seaborn-0.9.0/examples/grouped_boxplot.py  \n",
      "  inflating: seaborn-0.9.0/examples/grouped_violinplots.py  \n",
      "  inflating: seaborn-0.9.0/examples/heatmap_annotation.py  \n",
      "  inflating: seaborn-0.9.0/examples/hexbin_marginals.py  \n",
      "  inflating: seaborn-0.9.0/examples/horizontal_barplot.py  \n",
      "  inflating: seaborn-0.9.0/examples/horizontal_boxplot.py  \n",
      "  inflating: seaborn-0.9.0/examples/jitter_stripplot.py  \n",
      "  inflating: seaborn-0.9.0/examples/joint_kde.py  \n",
      "  inflating: seaborn-0.9.0/examples/kde_ridgeplot.py  \n",
      "  inflating: seaborn-0.9.0/examples/large_distributions.py  \n",
      "  inflating: seaborn-0.9.0/examples/logistic_regression.py  \n",
      "  inflating: seaborn-0.9.0/examples/many_facets.py  \n",
      "  inflating: seaborn-0.9.0/examples/many_pairwise_correlations.py  \n",
      "  inflating: seaborn-0.9.0/examples/marginal_ticks.py  \n",
      "  inflating: seaborn-0.9.0/examples/multiple_joint_kde.py  \n",
      "  inflating: seaborn-0.9.0/examples/multiple_regression.py  \n",
      "  inflating: seaborn-0.9.0/examples/pair_grid_with_kde.py  \n",
      "  inflating: seaborn-0.9.0/examples/paired_pointplots.py  \n",
      "  inflating: seaborn-0.9.0/examples/pairgrid_dotplot.py  \n",
      "  inflating: seaborn-0.9.0/examples/pointplot_anova.py  \n",
      "  inflating: seaborn-0.9.0/examples/regression_marginals.py  \n",
      "  inflating: seaborn-0.9.0/examples/residplot.py  \n",
      "  inflating: seaborn-0.9.0/examples/scatter_bubbles.py  \n",
      "  inflating: seaborn-0.9.0/examples/scatterplot_categorical.py  \n",
      "  inflating: seaborn-0.9.0/examples/scatterplot_matrix.py  \n",
      "  inflating: seaborn-0.9.0/examples/scatterplot_sizes.py  \n",
      "  inflating: seaborn-0.9.0/examples/simple_violinplots.py  \n",
      "  inflating: seaborn-0.9.0/examples/structured_heatmap.py  \n",
      "  inflating: seaborn-0.9.0/examples/wide_data_lineplot.py  \n",
      "  inflating: seaborn-0.9.0/examples/wide_form_violinplot.py  \n",
      "   creating: seaborn-0.9.0/licences/\n",
      "  inflating: seaborn-0.9.0/licences/HUSL_LICENSE  \n",
      "  inflating: seaborn-0.9.0/licences/SIX_LICENSE  \n",
      " extracting: seaborn-0.9.0/requirements.txt  \n",
      "   creating: seaborn-0.9.0/seaborn/\n",
      "  inflating: seaborn-0.9.0/seaborn/__init__.py  \n",
      "  inflating: seaborn-0.9.0/seaborn/algorithms.py  \n",
      "  inflating: seaborn-0.9.0/seaborn/apionly.py  \n",
      "  inflating: seaborn-0.9.0/seaborn/axisgrid.py  \n",
      "  inflating: seaborn-0.9.0/seaborn/categorical.py  \n",
      "  inflating: seaborn-0.9.0/seaborn/cm.py  \n",
      "   creating: seaborn-0.9.0/seaborn/colors/\n",
      "  inflating: seaborn-0.9.0/seaborn/colors/__init__.py  \n",
      "  inflating: seaborn-0.9.0/seaborn/colors/crayons.py  \n",
      "  inflating: seaborn-0.9.0/seaborn/colors/xkcd_rgb.py  \n",
      "  inflating: seaborn-0.9.0/seaborn/conftest.py  \n",
      "  inflating: seaborn-0.9.0/seaborn/distributions.py  \n",
      "   creating: seaborn-0.9.0/seaborn/external/\n",
      " extracting: seaborn-0.9.0/seaborn/external/__init__.py  \n",
      "  inflating: seaborn-0.9.0/seaborn/external/husl.py  \n",
      "  inflating: seaborn-0.9.0/seaborn/external/six.py  \n",
      "  inflating: seaborn-0.9.0/seaborn/linearmodels.py  \n",
      "  inflating: seaborn-0.9.0/seaborn/matrix.py  \n",
      "  inflating: seaborn-0.9.0/seaborn/miscplot.py  \n",
      "  inflating: seaborn-0.9.0/seaborn/palettes.py  \n",
      "  inflating: seaborn-0.9.0/seaborn/rcmod.py  \n",
      "  inflating: seaborn-0.9.0/seaborn/regression.py  \n",
      "  inflating: seaborn-0.9.0/seaborn/relational.py  \n",
      "   creating: seaborn-0.9.0/seaborn/tests/\n",
      " extracting: seaborn-0.9.0/seaborn/tests/__init__.py  \n",
      "  inflating: seaborn-0.9.0/seaborn/tests/test_algorithms.py  \n",
      "  inflating: seaborn-0.9.0/seaborn/tests/test_axisgrid.py  \n",
      "  inflating: seaborn-0.9.0/seaborn/tests/test_categorical.py  \n",
      "  inflating: seaborn-0.9.0/seaborn/tests/test_distributions.py  \n",
      "  inflating: seaborn-0.9.0/seaborn/tests/test_matrix.py  \n",
      "  inflating: seaborn-0.9.0/seaborn/tests/test_miscplot.py  \n",
      "  inflating: seaborn-0.9.0/seaborn/tests/test_palettes.py  \n",
      "  inflating: seaborn-0.9.0/seaborn/tests/test_rcmod.py  \n",
      "  inflating: seaborn-0.9.0/seaborn/tests/test_regression.py  \n",
      "  inflating: seaborn-0.9.0/seaborn/tests/test_relational.py  \n",
      "  inflating: seaborn-0.9.0/seaborn/tests/test_utils.py  \n",
      "  inflating: seaborn-0.9.0/seaborn/timeseries.py  \n",
      "  inflating: seaborn-0.9.0/seaborn/utils.py  \n",
      "  inflating: seaborn-0.9.0/seaborn/widgets.py  \n",
      "  inflating: seaborn-0.9.0/setup.py  \n",
      "   creating: seaborn-0.9.0/testing/\n",
      " extracting: seaborn-0.9.0/testing/deps_latest.txt  \n",
      " extracting: seaborn-0.9.0/testing/deps_minimal.txt  \n",
      "  inflating: seaborn-0.9.0/testing/deps_pinned.txt  \n",
      "  inflating: seaborn-0.9.0/testing/getmsfonts.sh  \n",
      " extracting: seaborn-0.9.0/testing/matplotlibrc_agg  \n",
      " extracting: seaborn-0.9.0/testing/matplotlibrc_qtagg  \n",
      "  inflating: seaborn-0.9.0/testing/utils.txt  \n"
     ]
    }
   ],
   "source": [
    "!unzip v0.9.0.zip"
   ]
  },
  {
   "cell_type": "code",
   "execution_count": null,
   "metadata": {},
   "outputs": [],
   "source": []
  }
 ],
 "metadata": {
  "kernelspec": {
   "display_name": "Python 3",
   "language": "python",
   "name": "python3"
  },
  "language_info": {
   "codemirror_mode": {
    "name": "ipython",
    "version": 3
   },
   "file_extension": ".py",
   "mimetype": "text/x-python",
   "name": "python",
   "nbconvert_exporter": "python",
   "pygments_lexer": "ipython3",
   "version": "3.7.3"
  }
 },
 "nbformat": 4,
 "nbformat_minor": 4
}
