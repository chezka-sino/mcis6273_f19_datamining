{
 "cells": [
  {
   "cell_type": "markdown",
   "metadata": {},
   "source": [
    "Chezka Sino (9028-67538)"
   ]
  },
  {
   "cell_type": "markdown",
   "metadata": {},
   "source": [
    "# MCIS6273 Data Mining (Prof. Maull) / Fall 2019 / HW1\n",
    "\n",
    "**This assignment is worth up to 25 POINTS to your grade total if you complete it on time.**\n",
    "\n",
    "| Points <br/>Possible | Due Date | Time Commitment <br/>(estimated) |\n",
    "|:---------------:|:--------:|:---------------:|\n",
    "| 25 | Wednesday, Nov 26 @ Midnight | _up to_ 6 hours |\n",
    "\n",
    "\n",
    "* **GRADING:** Grading will be aligned with the completeness of the objectives.\n",
    "\n",
    "* **INDEPENDENT WORK:** Copying, cheating, plagiarism  and academic dishonesty _are not tolerated_ by University or course policy.  Please see the syllabus for the full departmental and University statement on the academic code of honor.\n",
    "\n",
    "## OBJECTIVES\n",
    "* improve on your homework 0 assignment, if necessary\n",
    "\n",
    "* work with core Python libraries to do data munging to build a dataset\n",
    "\n",
    "* extend your exploration to a larger dataset\n",
    "\n",
    "## WHAT TO TURN IN\n",
    "You are being encouraged to turn the assignment in using the provided\n",
    "Jupyter Notebook.  To do so, make a directory in your Lab environment called\n",
    "`homework/hw1`.   Put all of your files in that directory.  Then zip that directory,\n",
    "rename it with your name as the first part of the filename (e.g. `maull_hw1_files.zip`), then\n",
    "download it to your local machine, then upload the `.zip` to Blackboard.\n",
    "\n",
    "If you do not know how to do this, please ask, or visit one of the many tutorials out there\n",
    "on the basics of using zip in Linux.\n",
    "\n",
    "If you choose not to use the provided notebook, you will still need to turn in a\n",
    "`.ipynb` Jupyter Notebook and corresponding files according to the instructions in\n",
    "this homework.\n",
    "\n",
    "## ASSIGNMENT TASKS\n",
    "### (50%) work with core Python libraries to do data munging to build a dataset \n",
    "\n",
    "In the last homework, you learned how powerful Pandas is for data engineering, analysis and exploratory\n",
    "data analysis activities.  We will use it more in this part of the homework to create a  dataset for further analysis.\n",
    "\n",
    "Power weightlifting (powerlifting) is an international sport that invites advanced ameteurs and professionals alike.  Fortunately,\n",
    "there are datasets for the multitude of powerlifting competitions around the world, and they are openly available\n",
    "for curious data scientists like ourselves who would like to ask interesting questions and find interesting\n",
    "relationships in the data.  Whether you're into the sport or not, I think there are a variety of\n",
    "interesting phenomenon in the data that make it both tractable and interesting from just a data perspective.\n",
    "\n",
    "**DATA**\n",
    "\n",
    "[OpenPowerLifting.org](https://OpenPowerLifting.org) is a large set of data for a multitude of data related to powerlifting\n",
    "competitions around the world.  The core data live at the following open source repository on [gitlab.com/openpowelifting](https://gitlab.com/openpowerlifting/opl-data).\n",
    "\n",
    "For the curious, there are a number of analyses that have already been performed on the data in a number of\n",
    "interesting ways.  Please visit [this page](https://www.openpowerlifting.org/data) to further fill\n",
    "your intrigue.\n",
    "\n",
    "Though the full dataset is available to us and will be used in the next part of the assignment, we want\n",
    "to get a little practice getting data from websites that require some HTML parsing and navigation.  Unlike\n",
    "the last time where we used APIs to get data, we're going to build a dataset _en masse_ from the CSV data\n",
    "on Gitlab.  Remarkably, while this technique may seem antiquated, you will find many datasets are just\n",
    "sitting on servers as text files that will require something similar to be accomplished.  We're unfortunately\n",
    "not yet in a data environment where the most interesting data you want is easily obtained or accessible behind\n",
    "APIs.  Often the resources to do so are beyond the capabilities of the data providers, though things are\n",
    "getting better each year with new tools and data access platforms.\n",
    "\n",
    "We're going to use Python and the [Beautiful Soup library](https://www.crummy.com/software/BeautifulSoup/)\n",
    "to build a random dataset of just 2019 data by directly navigating the\n",
    "HTML of the Gitlab repository.  It will be noted that [Gitlab does have an API](https://docs.gitlab.com/ee/api/),\n",
    "and it would be the preferred mechanism if we were to do this exercise with APIs like the last assignment.\n",
    "\n",
    "&#167;  **BUILD THE DATASET**\n",
    "\n",
    "We've learned CSV is common file format for data and we will be working the files large text files in\n",
    "Gitlab to do the work we need.  The task is to explore the repository and build up a dataset of 15\n",
    "random lifting meets from 2019 using\n",
    "[BeautifulSoup](https://www.crummy.com/software/BeautifulSoup/bs4/doc/) and the tools in Pandas to\n",
    "put these datasets together.\n",
    "\n",
    "This technique is often known as \"crawling\" and is consider by some to\n",
    "be a flagrant violation of good web etiquette. However, the technique is\n",
    "still often the only way to obtain data _en masse_ from a single source.\n",
    "If this were an FTP server, the same pattern could be applied and would\n",
    "_not_ be considered unusual to do so. Of course, you must use this with\n",
    "caution, as it can result in IP throttling and IP blocking, so please\n",
    "use it within the licensing terms of both the data and website you are\n",
    "obtaining data from. Good web citizens restore trust in providers and\n",
    "administrators alike, so throttling yourself after your own requests\n",
    "with code like `time.sleep(2)` (which will pause your code for 2\n",
    "seconds), will show that you can behave responsibly.\n",
    "\n",
    "Once you have loaded all the files, please re-index the rows using the\n",
    "[`Dataframe.reset_index()`](https://pandas.pydata.org/pandas-docs/stable/reference/api/pandas.DataFrame.reset_index.html#pandas.DataFrame.reset_index)\n",
    "method.\n",
    "\n",
    "Study the [supplemental Notebook](https://nbviewer.jupyter.org/github/kmsaumcis/mcis6273_f19_datamining/blob/master/homework/hw1/hw1_supplemental.ipynb)\n",
    "to understand a few ways you may complete your work.\n",
    "\n",
    "\n"
   ]
  },
  {
   "cell_type": "code",
   "execution_count": 1,
   "metadata": {},
   "outputs": [],
   "source": [
    "import requests\n",
    "page = requests.get(\"https://gitlab.com/openpowerlifting/opl-data/tree/master/meet-data/\").content"
   ]
  },
  {
   "cell_type": "code",
   "execution_count": 2,
   "metadata": {},
   "outputs": [],
   "source": [
    "from bs4 import BeautifulSoup"
   ]
  },
  {
   "cell_type": "code",
   "execution_count": 3,
   "metadata": {},
   "outputs": [],
   "source": [
    "doc = BeautifulSoup(page)\n",
    "lst_fed = [ i['title'] for i in doc.find_all(class_='str-truncated') if '/' not in i['title']]"
   ]
  },
  {
   "cell_type": "code",
   "execution_count": 4,
   "metadata": {},
   "outputs": [],
   "source": [
    "import random"
   ]
  },
  {
   "cell_type": "code",
   "execution_count": 16,
   "metadata": {},
   "outputs": [
    {
     "data": {
      "text/plain": [
       "['nzpf',\n",
       " 'ukrainepo',\n",
       " 'pride',\n",
       " 'udfpf',\n",
       " 'england-ua',\n",
       " 'oevk',\n",
       " 'achipo',\n",
       " 'irishpf',\n",
       " 'nz-ua',\n",
       " 'bpf',\n",
       " 'rawironpl',\n",
       " 'irp',\n",
       " 'usa-ua',\n",
       " 'wpc-italy',\n",
       " 'bp']"
      ]
     },
     "execution_count": 16,
     "metadata": {},
     "output_type": "execute_result"
    }
   ],
   "source": [
    "random.shuffle(lst_fed) # this randomizes the list in place\n",
    "lst_fed[:15]"
   ]
  },
  {
   "cell_type": "code",
   "execution_count": 17,
   "metadata": {},
   "outputs": [],
   "source": [
    "import pandas as pd\n",
    "import time"
   ]
  },
  {
   "cell_type": "code",
   "execution_count": 18,
   "metadata": {},
   "outputs": [
    {
     "name": "stdout",
     "output_type": "stream",
     "text": [
      "nzpf ...\n",
      "ukrainepo ...\n",
      "pride ...\n",
      "udfpf ...\n",
      "england-ua ...\n",
      "oevk ...\n",
      "achipo ...\n",
      "irishpf ...\n",
      "nz-ua ...\n",
      "bpf ...\n",
      "rawironpl ...\n",
      "irp ...\n",
      "usa-ua ...\n",
      "wpc-italy ...\n",
      "bp ...\n"
     ]
    }
   ],
   "source": [
    "template = \"https://gitlab.com/openpowerlifting/opl-data/raw/master/meet-data/{}/{}/entries.csv\"\n",
    "df = pd.DataFrame()\n",
    "\n",
    "for f in lst_fed[:15]:\n",
    "\n",
    "    try:\n",
    "        page = requests.get(\"https://gitlab.com/openpowerlifting/opl-data/tree/master/meet-data/{}\".format(f)).content\n",
    "        doc = BeautifulSoup(page)\n",
    "        lst_2019 = [i['title'] for i in doc.find_all(class_='str-truncated') if i['title'][:2] == '19']\n",
    "\n",
    "        for y in lst_2019:\n",
    "            sample = template.format(f, y)\n",
    "            df = pd.concat([df, pd.read_csv(sample)], sort=False)\n",
    "\n",
    "        print(\"{} ...\".format(f))\n",
    "        time.sleep(1.5)\n",
    "    except Exception as e:\n",
    "        print(\"X {} ...\".format(f))"
   ]
  },
  {
   "cell_type": "code",
   "execution_count": 19,
   "metadata": {},
   "outputs": [
    {
     "data": {
      "text/html": [
       "<div>\n",
       "<style scoped>\n",
       "    .dataframe tbody tr th:only-of-type {\n",
       "        vertical-align: middle;\n",
       "    }\n",
       "\n",
       "    .dataframe tbody tr th {\n",
       "        vertical-align: top;\n",
       "    }\n",
       "\n",
       "    .dataframe thead th {\n",
       "        text-align: right;\n",
       "    }\n",
       "</style>\n",
       "<table border=\"1\" class=\"dataframe\">\n",
       "  <thead>\n",
       "    <tr style=\"text-align: right;\">\n",
       "      <th></th>\n",
       "      <th>Name</th>\n",
       "      <th>Team</th>\n",
       "      <th>Sex</th>\n",
       "      <th>Division</th>\n",
       "      <th>Event</th>\n",
       "      <th>Equipment</th>\n",
       "      <th>BodyweightKg</th>\n",
       "      <th>WeightClassKg</th>\n",
       "      <th>Age</th>\n",
       "      <th>Squat1Kg</th>\n",
       "      <th>...</th>\n",
       "      <th>Best3DeadliftKg</th>\n",
       "      <th>TotalKg</th>\n",
       "      <th>Place</th>\n",
       "      <th>BirthYear</th>\n",
       "      <th>BirthDate</th>\n",
       "      <th>Squat4Kg</th>\n",
       "      <th>Bench4Kg</th>\n",
       "      <th>Deadlift4Kg</th>\n",
       "      <th>Country</th>\n",
       "      <th>State</th>\n",
       "    </tr>\n",
       "  </thead>\n",
       "  <tbody>\n",
       "    <tr>\n",
       "      <th>0</th>\n",
       "      <td>Margaret Bastion</td>\n",
       "      <td>WB</td>\n",
       "      <td>F</td>\n",
       "      <td>Masters 3</td>\n",
       "      <td>SBD</td>\n",
       "      <td>Raw</td>\n",
       "      <td>70.40</td>\n",
       "      <td>72</td>\n",
       "      <td>65.0</td>\n",
       "      <td>82.5</td>\n",
       "      <td>...</td>\n",
       "      <td>125.0</td>\n",
       "      <td>260.0</td>\n",
       "      <td>1</td>\n",
       "      <td>NaN</td>\n",
       "      <td>NaN</td>\n",
       "      <td>NaN</td>\n",
       "      <td>NaN</td>\n",
       "      <td>NaN</td>\n",
       "      <td>NaN</td>\n",
       "      <td>NaN</td>\n",
       "    </tr>\n",
       "    <tr>\n",
       "      <th>1</th>\n",
       "      <td>Sue Taylor</td>\n",
       "      <td>RNP</td>\n",
       "      <td>F</td>\n",
       "      <td>Masters 2</td>\n",
       "      <td>SBD</td>\n",
       "      <td>Raw</td>\n",
       "      <td>93.80</td>\n",
       "      <td>84+</td>\n",
       "      <td>55.0</td>\n",
       "      <td>90.0</td>\n",
       "      <td>...</td>\n",
       "      <td>95.0</td>\n",
       "      <td>240.0</td>\n",
       "      <td>1</td>\n",
       "      <td>NaN</td>\n",
       "      <td>NaN</td>\n",
       "      <td>NaN</td>\n",
       "      <td>NaN</td>\n",
       "      <td>NaN</td>\n",
       "      <td>NaN</td>\n",
       "      <td>NaN</td>\n",
       "    </tr>\n",
       "    <tr>\n",
       "      <th>2</th>\n",
       "      <td>Jennie Hopkinson</td>\n",
       "      <td>WB</td>\n",
       "      <td>F</td>\n",
       "      <td>Masters 1</td>\n",
       "      <td>SBD</td>\n",
       "      <td>Raw</td>\n",
       "      <td>70.00</td>\n",
       "      <td>72</td>\n",
       "      <td>45.0</td>\n",
       "      <td>115.0</td>\n",
       "      <td>...</td>\n",
       "      <td>160.0</td>\n",
       "      <td>352.5</td>\n",
       "      <td>1</td>\n",
       "      <td>NaN</td>\n",
       "      <td>NaN</td>\n",
       "      <td>NaN</td>\n",
       "      <td>NaN</td>\n",
       "      <td>NaN</td>\n",
       "      <td>NaN</td>\n",
       "      <td>NaN</td>\n",
       "    </tr>\n",
       "    <tr>\n",
       "      <th>3</th>\n",
       "      <td>Yena Wei</td>\n",
       "      <td>TPG</td>\n",
       "      <td>F</td>\n",
       "      <td>Open</td>\n",
       "      <td>SBD</td>\n",
       "      <td>Raw</td>\n",
       "      <td>60.00</td>\n",
       "      <td>63</td>\n",
       "      <td>35.0</td>\n",
       "      <td>80.0</td>\n",
       "      <td>...</td>\n",
       "      <td>92.5</td>\n",
       "      <td>222.5</td>\n",
       "      <td>1</td>\n",
       "      <td>NaN</td>\n",
       "      <td>NaN</td>\n",
       "      <td>NaN</td>\n",
       "      <td>NaN</td>\n",
       "      <td>NaN</td>\n",
       "      <td>NaN</td>\n",
       "      <td>NaN</td>\n",
       "    </tr>\n",
       "    <tr>\n",
       "      <th>4</th>\n",
       "      <td>Emma Waters</td>\n",
       "      <td>TPG</td>\n",
       "      <td>F</td>\n",
       "      <td>Open</td>\n",
       "      <td>SBD</td>\n",
       "      <td>Raw</td>\n",
       "      <td>70.15</td>\n",
       "      <td>72</td>\n",
       "      <td>38.0</td>\n",
       "      <td>77.5</td>\n",
       "      <td>...</td>\n",
       "      <td>112.5</td>\n",
       "      <td>255.0</td>\n",
       "      <td>1</td>\n",
       "      <td>NaN</td>\n",
       "      <td>NaN</td>\n",
       "      <td>NaN</td>\n",
       "      <td>NaN</td>\n",
       "      <td>NaN</td>\n",
       "      <td>NaN</td>\n",
       "      <td>NaN</td>\n",
       "    </tr>\n",
       "  </tbody>\n",
       "</table>\n",
       "<p>5 rows × 30 columns</p>\n",
       "</div>"
      ],
      "text/plain": [
       "               Name Team Sex   Division Event Equipment  BodyweightKg  \\\n",
       "0  Margaret Bastion   WB   F  Masters 3   SBD       Raw         70.40   \n",
       "1        Sue Taylor  RNP   F  Masters 2   SBD       Raw         93.80   \n",
       "2  Jennie Hopkinson   WB   F  Masters 1   SBD       Raw         70.00   \n",
       "3          Yena Wei  TPG   F       Open   SBD       Raw         60.00   \n",
       "4       Emma Waters  TPG   F       Open   SBD       Raw         70.15   \n",
       "\n",
       "  WeightClassKg   Age  Squat1Kg  ...  Best3DeadliftKg  TotalKg  Place  \\\n",
       "0            72  65.0      82.5  ...            125.0    260.0      1   \n",
       "1           84+  55.0      90.0  ...             95.0    240.0      1   \n",
       "2            72  45.0     115.0  ...            160.0    352.5      1   \n",
       "3            63  35.0      80.0  ...             92.5    222.5      1   \n",
       "4            72  38.0      77.5  ...            112.5    255.0      1   \n",
       "\n",
       "   BirthYear  BirthDate  Squat4Kg  Bench4Kg  Deadlift4Kg  Country  State  \n",
       "0        NaN        NaN       NaN       NaN          NaN      NaN    NaN  \n",
       "1        NaN        NaN       NaN       NaN          NaN      NaN    NaN  \n",
       "2        NaN        NaN       NaN       NaN          NaN      NaN    NaN  \n",
       "3        NaN        NaN       NaN       NaN          NaN      NaN    NaN  \n",
       "4        NaN        NaN       NaN       NaN          NaN      NaN    NaN  \n",
       "\n",
       "[5 rows x 30 columns]"
      ]
     },
     "execution_count": 19,
     "metadata": {},
     "output_type": "execute_result"
    }
   ],
   "source": [
    "df.reset_index()\n",
    "df.head()"
   ]
  },
  {
   "cell_type": "markdown",
   "metadata": {},
   "source": [
    "&#167;  **GET BASIC DESCRIPTIVE DATA ABOUT THE 2019 RANDOM DATASET**\n",
    "\n",
    "Load the dataset from the previous part into a DataFrame and **answer the following questions**:\n",
    "\n",
    "* What is _mean_ age of all athletes in your data?\n"
   ]
  },
  {
   "cell_type": "code",
   "execution_count": 20,
   "metadata": {},
   "outputs": [
    {
     "data": {
      "text/plain": [
       "29.766749379652605"
      ]
     },
     "execution_count": 20,
     "metadata": {},
     "output_type": "execute_result"
    }
   ],
   "source": [
    "df['Age'].mean()"
   ]
  },
  {
   "cell_type": "markdown",
   "metadata": {},
   "source": [
    "* What is the _median_ age of all athletes?"
   ]
  },
  {
   "cell_type": "code",
   "execution_count": 21,
   "metadata": {},
   "outputs": [
    {
     "data": {
      "text/plain": [
       "28.0"
      ]
     },
     "execution_count": 21,
     "metadata": {},
     "output_type": "execute_result"
    }
   ],
   "source": [
    "df['Age'].median()"
   ]
  },
  {
   "cell_type": "markdown",
   "metadata": {},
   "source": [
    "* What percentage of your data are Women (i.e. `Sex==\"F\"`)?"
   ]
  },
  {
   "cell_type": "code",
   "execution_count": 22,
   "metadata": {},
   "outputs": [
    {
     "data": {
      "text/plain": [
       "0.36099585062240663"
      ]
     },
     "execution_count": 22,
     "metadata": {},
     "output_type": "execute_result"
    }
   ],
   "source": [
    "len(df.query('Sex == \"F\"'))/len(df)"
   ]
  },
  {
   "cell_type": "markdown",
   "metadata": {},
   "source": [
    "* What is the _mean_ `Best3BenchKg` for MEN weighing more than 100Kg (i.e. `BodyweightKg>100`)?"
   ]
  },
  {
   "cell_type": "code",
   "execution_count": 23,
   "metadata": {},
   "outputs": [
    {
     "data": {
      "text/plain": [
       "144.3024296675192"
      ]
     },
     "execution_count": 23,
     "metadata": {},
     "output_type": "execute_result"
    }
   ],
   "source": [
    "df.query('BodyweightKg>100').loc[:,'Best3BenchKg'].mean()"
   ]
  },
  {
   "cell_type": "markdown",
   "metadata": {},
   "source": [
    "* Compare the _median_ `Best3SquatKg` for WOMEN over 40?  And WOMAN under 40?  What difference do you observe?"
   ]
  },
  {
   "cell_type": "code",
   "execution_count": 24,
   "metadata": {},
   "outputs": [],
   "source": [
    "over_40 = df.query('Sex == \"F\" & Age > 40').loc[:,'Best3SquatKg'].median()\n",
    "under_40 = df.query('Sex == \"F\" & Age < 40').loc[:,'Best3SquatKg'].median()"
   ]
  },
  {
   "cell_type": "code",
   "execution_count": 25,
   "metadata": {
    "scrolled": true
   },
   "outputs": [
    {
     "data": {
      "text/plain": [
       "-21.25"
      ]
     },
     "execution_count": 25,
     "metadata": {},
     "output_type": "execute_result"
    }
   ],
   "source": [
    "over_40 - under_40"
   ]
  },
  {
   "cell_type": "markdown",
   "metadata": {},
   "source": [
    "Women under 40 has 21.25 greater Best3SquatKg median than women over 40."
   ]
  },
  {
   "cell_type": "markdown",
   "metadata": {},
   "source": [
    "To answer the preceding questions, you will need to explore [selection and filtering](http://pandas.pydata.org/pandas-docs/stable/indexing.html)\n",
    "of DataFrames, with close attention on [`.loc[]`](http://pandas.pydata.org/pandas-docs/stable/generated/pandas.DataFrame.loc.html#pandas.DataFrame.loc),\n",
    "[`.iloc[]`](http://pandas.pydata.org/pandas-docs/stable/generated/pandas.DataFrame.iloc.html#pandas.DataFrame.iloc) and [`.query()  `](http://pandas.pydata.org/pandas-docs/stable/generated/pandas.DataFrame.query.html#pandas.DataFrame.query).  `.query()` will be especially useful.\n",
    "\n",
    "You may also want to carefully explore [`.describe()`](http://pandas.pydata.org/pandas-docs/stable/generated/pandas.DataFrame.describe.html#pandas.DataFrame.describe),\n",
    "as doing so might reduce your effort considerably.  Your Jupyter Notebook will need to provide **correct and executable cells** for the answers or you will not received\n",
    "full credit!"
   ]
  },
  {
   "cell_type": "markdown",
   "metadata": {},
   "source": [
    "&#167;  **PLOT THE RELATIONSHIP BETWEEN `Age` AND `TotalKg` USING SEABORN**\n",
    "\n",
    "[Seaborn](http://seaborn.pydata.org/index.html) is a visualization library for Python\n",
    "that \"provides a high-level interface for drawing attractive and informative statistical graphics.\"  It\n",
    "extends many of the capabilities of matplotlib and has a high degree of polish compared to the\n",
    "standard plots produced by matplotlib.\n",
    "\n",
    "Use Seaborn to plot the relationship between `Age` and `TotalKg` by restricting your\n",
    "dataset to just `Age` and `TotalKg`.  You may use the code from the supplemental notebook to\n",
    "get clues on how to do this.  Furthermore, this plot should have the `Age` as the $x$-axis and\n",
    "`TotalKg` on the $y$-axis. To complete this part, you will need to review the\n",
    "[`seaborn.jointplot()`](http://seaborn.pydata.org/generated/seaborn.jointplot.html) method.\n",
    "\n",
    "* Please write a rationale _using the plot in your analysis_ for the support (or lack of support) for\n",
    "the claim that _the older an athlete gets the less total weight they will be able to lift_.\n"
   ]
  },
  {
   "cell_type": "code",
   "execution_count": 26,
   "metadata": {},
   "outputs": [],
   "source": [
    "%matplotlib inline\n",
    "import seaborn as sns"
   ]
  },
  {
   "cell_type": "code",
   "execution_count": 27,
   "metadata": {},
   "outputs": [
    {
     "data": {
      "text/plain": [
       "<seaborn.axisgrid.JointGrid at 0x1a27288cc0>"
      ]
     },
     "execution_count": 27,
     "metadata": {},
     "output_type": "execute_result"
    },
    {
     "data": {
      "image/png": "[encoded data removed]",
      "text/plain": [
       "<Figure size 432x432 with 3 Axes>"
      ]
     },
     "metadata": {
      "needs_background": "light"
     },
     "output_type": "display_data"
    }
   ],
   "source": [
    "sns.jointplot('Age','TotalKg',data=df)"
   ]
  },
  {
   "cell_type": "markdown",
   "metadata": {},
   "source": [
    "> There doesn't seem to be a correlation between Age and TotalKg since the weight seems close to a normal distribution regardless of age"
   ]
  },
  {
   "cell_type": "markdown",
   "metadata": {},
   "source": [
    "* Derive the correlation between `Age` and `TotalKg` using the [`DataFrame.corr()`](https://pandas.pydata.org/pandas-docs/stable/reference/api/pandas.DataFrame.corr.html#pandas.DataFrame.corr) method.  Does this\n",
    "new information change your mind about your previous answer?  Why or why not?  Recall that a positive\n",
    "correlation greater than $0.5$ would indicate a stronger positive correlation\n",
    "(a perfect correlation being $1.0$) while the closer to zero indicates no correlation.\n"
   ]
  },
  {
   "cell_type": "code",
   "execution_count": 28,
   "metadata": {
    "scrolled": false
   },
   "outputs": [
    {
     "data": {
      "text/html": [
       "<div>\n",
       "<style scoped>\n",
       "    .dataframe tbody tr th:only-of-type {\n",
       "        vertical-align: middle;\n",
       "    }\n",
       "\n",
       "    .dataframe tbody tr th {\n",
       "        vertical-align: top;\n",
       "    }\n",
       "\n",
       "    .dataframe thead th {\n",
       "        text-align: right;\n",
       "    }\n",
       "</style>\n",
       "<table border=\"1\" class=\"dataframe\">\n",
       "  <thead>\n",
       "    <tr style=\"text-align: right;\">\n",
       "      <th></th>\n",
       "      <th>Age</th>\n",
       "      <th>TotalKg</th>\n",
       "    </tr>\n",
       "  </thead>\n",
       "  <tbody>\n",
       "    <tr>\n",
       "      <th>Age</th>\n",
       "      <td>1.000000</td>\n",
       "      <td>-0.037874</td>\n",
       "    </tr>\n",
       "    <tr>\n",
       "      <th>TotalKg</th>\n",
       "      <td>-0.037874</td>\n",
       "      <td>1.000000</td>\n",
       "    </tr>\n",
       "  </tbody>\n",
       "</table>\n",
       "</div>"
      ],
      "text/plain": [
       "              Age   TotalKg\n",
       "Age      1.000000 -0.037874\n",
       "TotalKg -0.037874  1.000000"
      ]
     },
     "execution_count": 28,
     "metadata": {},
     "output_type": "execute_result"
    }
   ],
   "source": [
    "df[['Age','TotalKg']].corr()"
   ]
  },
  {
   "cell_type": "markdown",
   "metadata": {},
   "source": [
    "> As I have mentioned before, there doesn't seem to be a correlation between Age and TotalKg"
   ]
  },
  {
   "cell_type": "markdown",
   "metadata": {},
   "source": [
    "### (50%) extend your exploration to a larger dataset \n",
    "\n",
    "\n",
    "Recall, that we said there were reasons to obtain our own datasets when one is not provided for\n",
    "us.  We're going to extend our data to a much larger dataset to see what kinds of patterns emerge.\n",
    "\n",
    "The partial data that we worked with to do  some data munging in the first part comes with some good news!\n",
    "The friendly community  at OpenPowerLifting have actually made our job even easier\n",
    "(you will still need to complete the data munging assignment as indicated in the prior section).\n",
    "\n",
    "There is a ZIP file with the complete data dump from the most recent competition going\n",
    "all the way back to the 1960s.  This zip file is <56MB zipped and a few hundred MB unzipped and includes\n",
    "over 1.3 million records, making this one very interesting data set to explore on a number of fronts.\n",
    "\n",
    "We're going to explore the full data set, get some basic exploratory analysis underway and prepare ourselves\n",
    "for the next homework to do some more sophisticated pattern mining.\n",
    "\n",
    "&#167;  **LOAD THE FULL DATASET**\n",
    "\n",
    "You are to download the ZIP file from here:\n",
    "\n",
    "[openpowerlift-latest.zip](https://github.com/sstangl/openpowerlifting-static/raw/gh-pages/openpowerlifting-latest.zip)\n",
    "\n",
    "You are encouraged to use Jupyter shell escaping commands to accmplish this\n",
    "OR you may open a terminal and use `wget` or `curl` then `unzip`.  You could even write\n",
    "your own Python code, but this would likely be more effort than necessary for this\n",
    "assignment. See the supplemental notebook for more information on shell escaping.\n",
    "\n"
   ]
  },
  {
   "cell_type": "code",
   "execution_count": 1,
   "metadata": {},
   "outputs": [
    {
     "name": "stdout",
     "output_type": "stream",
     "text": [
      "--2019-11-27 13:50:32--  https://github.com/sstangl/openpowerlifting-static/raw/gh-pages/openpowerlifting-latest.zip\n",
      "Resolving github.com (github.com)... 52.74.223.119\n",
      "Connecting to github.com (github.com)|52.74.223.119|:443... connected.\n",
      "HTTP request sent, awaiting response... 302 Found\n",
      "Location: https://raw.githubusercontent.com/sstangl/openpowerlifting-static/gh-pages/openpowerlifting-latest.zip [following]\n",
      "--2019-11-27 13:50:33--  https://raw.githubusercontent.com/sstangl/openpowerlifting-static/gh-pages/openpowerlifting-latest.zip\n",
      "Resolving raw.githubusercontent.com (raw.githubusercontent.com)... 151.101.64.133, 151.101.128.133, 151.101.192.133, ...\n",
      "Connecting to raw.githubusercontent.com (raw.githubusercontent.com)|151.101.64.133|:443... connected.\n",
      "HTTP request sent, awaiting response... 200 OK\n",
      "Length: 66043531 (63M) [application/zip]\n",
      "Saving to: ‘openpowerlifting-latest.zip’\n",
      "\n",
      "openpowerlifting-la 100%[===================>]  62.98M   236KB/s    in 4m 15s  \n",
      "\n",
      "2019-11-27 13:54:49 (253 KB/s) - ‘openpowerlifting-latest.zip’ saved [66043531/66043531]\n",
      "\n"
     ]
    }
   ],
   "source": [
    "!wget https://github.com/sstangl/openpowerlifting-static/raw/gh-pages/openpowerlifting-latest.zip"
   ]
  },
  {
   "cell_type": "code",
   "execution_count": 2,
   "metadata": {},
   "outputs": [
    {
     "name": "stdout",
     "output_type": "stream",
     "text": [
      "Archive:  openpowerlifting-latest.zip\n",
      "   creating: openpowerlifting-2019-11-20/\n",
      "  inflating: openpowerlifting-2019-11-20/LICENSE.txt  \n",
      "  inflating: openpowerlifting-2019-11-20/openpowerlifting-2019-11-20.csv  \n",
      "  inflating: openpowerlifting-2019-11-20/README.txt  \n"
     ]
    }
   ],
   "source": [
    "!unzip openpowerlifting-latest.zip"
   ]
  },
  {
   "cell_type": "markdown",
   "metadata": {},
   "source": [
    "&#167;  **COMPUTE THE TOTAL PERCENT MEN AND WOMEN COMPETITORS FROM 1964**\n",
    "\n",
    "Female participation in powerlifting has grown over the years and now women powerlifters are\n",
    "commonplace in competitive meets.  You are to look into the growth of female participation\n",
    "given the dataset in the OpenPowerLifting data.\n",
    "\n",
    "You should begin using the function below that takes the original data from the first part of\n",
    "this section and returns a Dataframe with the ratio of male to female participants.\n",
    "\n",
    "```python\n",
    "\n",
    "def get_gender_ratios(df, year):\n",
    "    return \\\n",
    "        df.query('Date>\"{}-01-01\" & Date<\"{}-01-01\"'.format(year, year+1)).loc[:,['Sex']].squeeze().value_counts() \\\n",
    "            / df.query('Date>\"{}-01-01\" & Date<\"{}-01-01\"'.format(year, year+1)).loc[:,['Sex']].shape[0]\n",
    "```\n",
    "\n",
    "Thus,\n",
    "\n",
    "```\n",
    "> get_gender_ratios(df, 1964)\n",
    "\n",
    "M    1.0\n",
    "Name: Sex, dtype: float64\n",
    "```\n",
    "Meaning, 100% of the participant data for 1964 were Male.\n",
    "\n",
    "\n",
    "* You will need to use the function to build a Dataframe with all the years and ratios.  Your final\n",
    "Dataframe will have two rows 'M' and 'F' and the columns will be the years.  See the supplied\n",
    "notebook to see an example.  Using that you will be able to transpose the data to complete the remaining\n",
    "plots and questions.  See the [`.T`](https://pandas.pydata.org/pandas-docs/stable/reference/api/pandas.DataFrame.T.html#pandas.DataFrame.T) method to determine what transposing does.\n",
    "\n",
    "* Build the Dataframe with all the percentages from 1964 to 2019.\n"
   ]
  },
  {
   "cell_type": "code",
   "execution_count": 29,
   "metadata": {},
   "outputs": [],
   "source": [
    "import pandas as pd"
   ]
  },
  {
   "cell_type": "code",
   "execution_count": 30,
   "metadata": {},
   "outputs": [],
   "source": [
    "df2 = pd.read_csv(\"openpowerlifting-2019-11-20/openpowerlifting-2019-11-20.csv\", low_memory=False)"
   ]
  },
  {
   "cell_type": "code",
   "execution_count": 32,
   "metadata": {
    "scrolled": true
   },
   "outputs": [
    {
     "data": {
      "text/html": [
       "<div>\n",
       "<style scoped>\n",
       "    .dataframe tbody tr th:only-of-type {\n",
       "        vertical-align: middle;\n",
       "    }\n",
       "\n",
       "    .dataframe tbody tr th {\n",
       "        vertical-align: top;\n",
       "    }\n",
       "\n",
       "    .dataframe thead th {\n",
       "        text-align: right;\n",
       "    }\n",
       "</style>\n",
       "<table border=\"1\" class=\"dataframe\">\n",
       "  <thead>\n",
       "    <tr style=\"text-align: right;\">\n",
       "      <th></th>\n",
       "      <th>Name</th>\n",
       "      <th>Sex</th>\n",
       "      <th>Event</th>\n",
       "      <th>Equipment</th>\n",
       "      <th>Age</th>\n",
       "      <th>AgeClass</th>\n",
       "      <th>BirthYearClass</th>\n",
       "      <th>Division</th>\n",
       "      <th>BodyweightKg</th>\n",
       "      <th>WeightClassKg</th>\n",
       "      <th>...</th>\n",
       "      <th>McCulloch</th>\n",
       "      <th>Glossbrenner</th>\n",
       "      <th>IPFPoints</th>\n",
       "      <th>Tested</th>\n",
       "      <th>Country</th>\n",
       "      <th>Federation</th>\n",
       "      <th>Date</th>\n",
       "      <th>MeetCountry</th>\n",
       "      <th>MeetState</th>\n",
       "      <th>MeetName</th>\n",
       "    </tr>\n",
       "  </thead>\n",
       "  <tbody>\n",
       "    <tr>\n",
       "      <th>0</th>\n",
       "      <td>Abbie Murphy</td>\n",
       "      <td>F</td>\n",
       "      <td>SBD</td>\n",
       "      <td>Wraps</td>\n",
       "      <td>29.0</td>\n",
       "      <td>24-34</td>\n",
       "      <td>NaN</td>\n",
       "      <td>F-OR</td>\n",
       "      <td>59.8</td>\n",
       "      <td>60</td>\n",
       "      <td>...</td>\n",
       "      <td>324.16</td>\n",
       "      <td>286.42</td>\n",
       "      <td>511.15</td>\n",
       "      <td>NaN</td>\n",
       "      <td>NaN</td>\n",
       "      <td>GPC-AUS</td>\n",
       "      <td>2018-10-27</td>\n",
       "      <td>Australia</td>\n",
       "      <td>VIC</td>\n",
       "      <td>Melbourne Cup</td>\n",
       "    </tr>\n",
       "    <tr>\n",
       "      <th>1</th>\n",
       "      <td>Abbie Tuong</td>\n",
       "      <td>F</td>\n",
       "      <td>SBD</td>\n",
       "      <td>Wraps</td>\n",
       "      <td>29.0</td>\n",
       "      <td>24-34</td>\n",
       "      <td>NaN</td>\n",
       "      <td>F-OR</td>\n",
       "      <td>58.5</td>\n",
       "      <td>60</td>\n",
       "      <td>...</td>\n",
       "      <td>378.07</td>\n",
       "      <td>334.16</td>\n",
       "      <td>595.65</td>\n",
       "      <td>NaN</td>\n",
       "      <td>NaN</td>\n",
       "      <td>GPC-AUS</td>\n",
       "      <td>2018-10-27</td>\n",
       "      <td>Australia</td>\n",
       "      <td>VIC</td>\n",
       "      <td>Melbourne Cup</td>\n",
       "    </tr>\n",
       "    <tr>\n",
       "      <th>2</th>\n",
       "      <td>Ainslee Hooper</td>\n",
       "      <td>F</td>\n",
       "      <td>B</td>\n",
       "      <td>Raw</td>\n",
       "      <td>40.0</td>\n",
       "      <td>40-44</td>\n",
       "      <td>40-49</td>\n",
       "      <td>F-OR</td>\n",
       "      <td>55.4</td>\n",
       "      <td>56</td>\n",
       "      <td>...</td>\n",
       "      <td>38.56</td>\n",
       "      <td>34.12</td>\n",
       "      <td>313.97</td>\n",
       "      <td>NaN</td>\n",
       "      <td>NaN</td>\n",
       "      <td>GPC-AUS</td>\n",
       "      <td>2018-10-27</td>\n",
       "      <td>Australia</td>\n",
       "      <td>VIC</td>\n",
       "      <td>Melbourne Cup</td>\n",
       "    </tr>\n",
       "    <tr>\n",
       "      <th>3</th>\n",
       "      <td>Amy Moldenhauer</td>\n",
       "      <td>F</td>\n",
       "      <td>SBD</td>\n",
       "      <td>Wraps</td>\n",
       "      <td>23.0</td>\n",
       "      <td>20-23</td>\n",
       "      <td>NaN</td>\n",
       "      <td>F-OR</td>\n",
       "      <td>60.0</td>\n",
       "      <td>60</td>\n",
       "      <td>...</td>\n",
       "      <td>345.61</td>\n",
       "      <td>305.37</td>\n",
       "      <td>547.04</td>\n",
       "      <td>NaN</td>\n",
       "      <td>NaN</td>\n",
       "      <td>GPC-AUS</td>\n",
       "      <td>2018-10-27</td>\n",
       "      <td>Australia</td>\n",
       "      <td>VIC</td>\n",
       "      <td>Melbourne Cup</td>\n",
       "    </tr>\n",
       "    <tr>\n",
       "      <th>4</th>\n",
       "      <td>Andrea Rowan</td>\n",
       "      <td>F</td>\n",
       "      <td>SBD</td>\n",
       "      <td>Wraps</td>\n",
       "      <td>45.0</td>\n",
       "      <td>45-49</td>\n",
       "      <td>40-49</td>\n",
       "      <td>F-OR</td>\n",
       "      <td>104.0</td>\n",
       "      <td>110</td>\n",
       "      <td>...</td>\n",
       "      <td>338.91</td>\n",
       "      <td>274.56</td>\n",
       "      <td>550.08</td>\n",
       "      <td>NaN</td>\n",
       "      <td>NaN</td>\n",
       "      <td>GPC-AUS</td>\n",
       "      <td>2018-10-27</td>\n",
       "      <td>Australia</td>\n",
       "      <td>VIC</td>\n",
       "      <td>Melbourne Cup</td>\n",
       "    </tr>\n",
       "  </tbody>\n",
       "</table>\n",
       "<p>5 rows × 38 columns</p>\n",
       "</div>"
      ],
      "text/plain": [
       "              Name Sex Event Equipment   Age AgeClass BirthYearClass Division  \\\n",
       "0     Abbie Murphy   F   SBD     Wraps  29.0    24-34            NaN     F-OR   \n",
       "1      Abbie Tuong   F   SBD     Wraps  29.0    24-34            NaN     F-OR   \n",
       "2   Ainslee Hooper   F     B       Raw  40.0    40-44          40-49     F-OR   \n",
       "3  Amy Moldenhauer   F   SBD     Wraps  23.0    20-23            NaN     F-OR   \n",
       "4     Andrea Rowan   F   SBD     Wraps  45.0    45-49          40-49     F-OR   \n",
       "\n",
       "   BodyweightKg WeightClassKg  ...  McCulloch  Glossbrenner  IPFPoints  \\\n",
       "0          59.8            60  ...     324.16        286.42     511.15   \n",
       "1          58.5            60  ...     378.07        334.16     595.65   \n",
       "2          55.4            56  ...      38.56         34.12     313.97   \n",
       "3          60.0            60  ...     345.61        305.37     547.04   \n",
       "4         104.0           110  ...     338.91        274.56     550.08   \n",
       "\n",
       "   Tested  Country  Federation        Date  MeetCountry  MeetState  \\\n",
       "0     NaN      NaN     GPC-AUS  2018-10-27    Australia        VIC   \n",
       "1     NaN      NaN     GPC-AUS  2018-10-27    Australia        VIC   \n",
       "2     NaN      NaN     GPC-AUS  2018-10-27    Australia        VIC   \n",
       "3     NaN      NaN     GPC-AUS  2018-10-27    Australia        VIC   \n",
       "4     NaN      NaN     GPC-AUS  2018-10-27    Australia        VIC   \n",
       "\n",
       "        MeetName  \n",
       "0  Melbourne Cup  \n",
       "1  Melbourne Cup  \n",
       "2  Melbourne Cup  \n",
       "3  Melbourne Cup  \n",
       "4  Melbourne Cup  \n",
       "\n",
       "[5 rows x 38 columns]"
      ]
     },
     "execution_count": 32,
     "metadata": {},
     "output_type": "execute_result"
    }
   ],
   "source": [
    "df2.head()"
   ]
  },
  {
   "cell_type": "code",
   "execution_count": 33,
   "metadata": {},
   "outputs": [],
   "source": [
    "def get_gender_ratios(df, year):\n",
    "    return \\\n",
    "        df.query('Date>\"{}-01-01\" & Date<\"{}-01-01\"'.format(year, year+1)).loc[:,['Sex']].squeeze().value_counts() \\\n",
    "            / df.query('Date>\"{}-01-01\" & Date<\"{}-01-01\"'.format(year, year+1)).loc[:,['Sex']].shape[0]"
   ]
  },
  {
   "cell_type": "code",
   "execution_count": 34,
   "metadata": {},
   "outputs": [],
   "source": [
    "df_ratio = pd.DataFrame(columns=['M','F'])"
   ]
  },
  {
   "cell_type": "code",
   "execution_count": 35,
   "metadata": {},
   "outputs": [],
   "source": [
    "for i in range(1964,2020):\n",
    "    df_ratio.loc[i,:] = get_gender_ratios(df2,i)"
   ]
  },
  {
   "cell_type": "code",
   "execution_count": 36,
   "metadata": {},
   "outputs": [
    {
     "data": {
      "text/html": [
       "<div>\n",
       "<style scoped>\n",
       "    .dataframe tbody tr th:only-of-type {\n",
       "        vertical-align: middle;\n",
       "    }\n",
       "\n",
       "    .dataframe tbody tr th {\n",
       "        vertical-align: top;\n",
       "    }\n",
       "\n",
       "    .dataframe thead th {\n",
       "        text-align: right;\n",
       "    }\n",
       "</style>\n",
       "<table border=\"1\" class=\"dataframe\">\n",
       "  <thead>\n",
       "    <tr style=\"text-align: right;\">\n",
       "      <th></th>\n",
       "      <th>M</th>\n",
       "      <th>F</th>\n",
       "    </tr>\n",
       "  </thead>\n",
       "  <tbody>\n",
       "    <tr>\n",
       "      <th>1964</th>\n",
       "      <td>1.0</td>\n",
       "      <td>0.0</td>\n",
       "    </tr>\n",
       "    <tr>\n",
       "      <th>1965</th>\n",
       "      <td>1.0</td>\n",
       "      <td>0.0</td>\n",
       "    </tr>\n",
       "    <tr>\n",
       "      <th>1966</th>\n",
       "      <td>1.0</td>\n",
       "      <td>0.0</td>\n",
       "    </tr>\n",
       "    <tr>\n",
       "      <th>1967</th>\n",
       "      <td>1.0</td>\n",
       "      <td>0.0</td>\n",
       "    </tr>\n",
       "    <tr>\n",
       "      <th>1968</th>\n",
       "      <td>1.0</td>\n",
       "      <td>0.0</td>\n",
       "    </tr>\n",
       "  </tbody>\n",
       "</table>\n",
       "</div>"
      ],
      "text/plain": [
       "        M    F\n",
       "1964  1.0  0.0\n",
       "1965  1.0  0.0\n",
       "1966  1.0  0.0\n",
       "1967  1.0  0.0\n",
       "1968  1.0  0.0"
      ]
     },
     "execution_count": 36,
     "metadata": {},
     "output_type": "execute_result"
    }
   ],
   "source": [
    "df_ratio.fillna(value=0,inplace=True)\n",
    "df_ratio.head()"
   ]
  },
  {
   "cell_type": "markdown",
   "metadata": {},
   "source": [
    "&#167;  **PLOT THE MALE/FEMALE RATIOS AND ANSWER THE QUESTIONS**\n",
    "\n",
    "* From the previous result, you were able to compute the ratios.  Now plot them.  The simplest way\n",
    "is to use the [`Dataframe.plot(kind='line')`](https://pandas.pydata.org/pandas-docs/stable/user_guide/visualization.html) where the `Dataframe` is the transposed data\n",
    "from the prior section.  Your notebook MUST show the plot for full points."
   ]
  },
  {
   "cell_type": "code",
   "execution_count": 37,
   "metadata": {},
   "outputs": [
    {
     "data": {
      "text/plain": [
       "<matplotlib.axes._subplots.AxesSubplot at 0x1a27b23f60>"
      ]
     },
     "execution_count": 37,
     "metadata": {},
     "output_type": "execute_result"
    },
    {
     "data": {
      "image/png": "[encoded data removed]",
      "text/plain": [
       "<Figure size 1440x720 with 1 Axes>"
      ]
     },
     "metadata": {
      "needs_background": "light"
     },
     "output_type": "display_data"
    }
   ],
   "source": [
    "df_ratio.plot(y=[\"M\",\"F\"],\n",
    "              kind='line',\n",
    "              figsize=(20,10),\n",
    "              title=\"Percentage of Male and Female Powerlifting Competitors in 1964-2019\")"
   ]
  },
  {
   "cell_type": "markdown",
   "metadata": {},
   "source": [
    "* Explain in your own words what _overall_ trend that you see in the data.\n",
    "> Over the years, it seem like the ratio of Male and Female competitors in powerlifting is getting closer to 50:50.\n",
    "\n",
    "* When  were the greatest participation increases in women powerlifters?"
   ]
  },
  {
   "cell_type": "code",
   "execution_count": 38,
   "metadata": {
    "scrolled": false
   },
   "outputs": [
    {
     "data": {
      "text/plain": [
       "<matplotlib.axes._subplots.AxesSubplot at 0x1a2796d908>"
      ]
     },
     "execution_count": 38,
     "metadata": {},
     "output_type": "execute_result"
    },
    {
     "data": {
      "image/png": "[encoded data removed]",
      "text/plain": [
       "<Figure size 1440x720 with 1 Axes>"
      ]
     },
     "metadata": {
      "needs_background": "light"
     },
     "output_type": "display_data"
    }
   ],
   "source": [
    "df_differences = df_ratio.diff(axis=0)\n",
    "df_differences.plot(y=[\"M\",\"F\"],\n",
    "              kind='line',\n",
    "              figsize=(20,10),\n",
    "              title=\"Difference in the Percentage of Male and Female Powerlifting Competitors from the Previous Year\")"
   ]
  },
  {
   "cell_type": "code",
   "execution_count": 39,
   "metadata": {
    "scrolled": true
   },
   "outputs": [
    {
     "data": {
      "text/plain": [
       "2014"
      ]
     },
     "execution_count": 39,
     "metadata": {},
     "output_type": "execute_result"
    }
   ],
   "source": [
    "df_differences['F'].idxmax()"
   ]
  },
  {
   "cell_type": "markdown",
   "metadata": {},
   "source": [
    "> The greatest participation increase in Female competitors was in 2014.\n",
    "\n",
    "* Describe in your own words you see between the years 2009-2012?\n"
   ]
  },
  {
   "cell_type": "code",
   "execution_count": 40,
   "metadata": {},
   "outputs": [
    {
     "data": {
      "text/plain": [
       "<matplotlib.axes._subplots.AxesSubplot at 0x1a279c4278>"
      ]
     },
     "execution_count": 40,
     "metadata": {},
     "output_type": "execute_result"
    },
    {
     "data": {
      "image/png": "[encoded data removed]",
      "text/plain": [
       "<Figure size 720x360 with 1 Axes>"
      ]
     },
     "metadata": {
      "needs_background": "light"
     },
     "output_type": "display_data"
    }
   ],
   "source": [
    "df_ratio.loc[2009:2012,].plot(y=['M','F'],\n",
    "                             kind='line',\n",
    "                             figsize=(10,5))"
   ]
  },
  {
   "cell_type": "markdown",
   "metadata": {},
   "source": [
    "> By looking at the plot of the percentages during 2009-2012, we can see that there was a slight increase in Male competitors, resulting in less Female competitors from 2009-2010. After this increase, the there seems to be no change in the percentages of Male and Female competitors up to 2012."
   ]
  },
  {
   "cell_type": "code",
   "execution_count": null,
   "metadata": {},
   "outputs": [],
   "source": []
  }
 ],
 "metadata": {
  "anaconda-cloud": {},
  "kernelspec": {
   "display_name": "Python 3",
   "language": "python",
   "name": "python3"
  },
  "language_info": {
   "codemirror_mode": {
    "name": "ipython",
    "version": 3
   },
   "file_extension": ".py",
   "mimetype": "text/x-python",
   "name": "python",
   "nbconvert_exporter": "python",
   "pygments_lexer": "ipython3",
   "version": "3.7.3"
  },
  "toc": {
   "colors": {
    "hover_highlight": "#DAA520",
    "navigate_num": "#000000",
    "navigate_text": "#333333",
    "running_highlight": "#FF0000",
    "selected_highlight": "#FFD700",
    "sidebar_border": "#EEEEEE",
    "wrapper_background": "#FFFFFF"
   },
   "moveMenuLeft": true,
   "nav_menu": {
    "height": "12px",
    "width": "252px"
   },
   "navigate_menu": true,
   "number_sections": false,
   "sideBar": true,
   "threshold": "1",
   "toc_cell": false,
   "toc_section_display": "block",
   "toc_window_display": true,
   "widenNotebook": false
  }
 },
 "nbformat": 4,
 "nbformat_minor": 1
}
