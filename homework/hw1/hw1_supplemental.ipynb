{
 "cells": [
  {
   "cell_type": "markdown",
   "metadata": {},
   "source": [
    "# Supplemental Notebook to HW1"
   ]
  },
  {
   "cell_type": "markdown",
   "metadata": {},
   "source": [
    "Loading data can be accomplished using the [`Requests`]() library in conjunction with the [`Beautiful Soup 4`]() library.  Study the code snippets below."
   ]
  },
  {
   "cell_type": "code",
   "execution_count": 1,
   "metadata": {},
   "outputs": [],
   "source": [
    "import requests\n",
    "page = requests.get(\"https://gitlab.com/openpowerlifting/opl-data/tree/master/meet-data/\").content"
   ]
  },
  {
   "cell_type": "markdown",
   "metadata": {},
   "source": [
    "`page` contains the HTML of interest and in particular all the directories are of `class=str-truncated` in the original HTML of the page on Gitlab.  Thus, parsing the page with BS4 and building the list of directories of data would look like:"
   ]
  },
  {
   "cell_type": "code",
   "execution_count": 2,
   "metadata": {},
   "outputs": [],
   "source": [
    "from bs4 import BeautifulSoup\n",
    "doc = BeautifulSoup(page)\n",
    "lst_fed = [ i['title'] for i in doc.find_all(class_='str-truncated') if '/' not in i['title']]"
   ]
  },
  {
   "cell_type": "markdown",
   "metadata": {},
   "source": [
    "You can now use the `random` library to randomly select 15 of the federations and grab the 2019 meet data:"
   ]
  },
  {
   "cell_type": "code",
   "execution_count": 3,
   "metadata": {},
   "outputs": [
    {
     "data": {
      "text/plain": [
       "['apf',\n",
       " 'wpau',\n",
       " 'xpc',\n",
       " 'bpu',\n",
       " 'ireland-ua',\n",
       " 'raw-iceland',\n",
       " 'bb',\n",
       " 'rawu',\n",
       " 'bpc',\n",
       " 'naurupf',\n",
       " 'belpf',\n",
       " 'chinapa',\n",
       " 'ukrainepa',\n",
       " 'achipo',\n",
       " 'aap']"
      ]
     },
     "execution_count": 3,
     "metadata": {},
     "output_type": "execute_result"
    }
   ],
   "source": [
    "import random\n",
    "random.shuffle(lst_fed) # this randomizes the list in place\n",
    "lst_fed[:15]"
   ]
  },
  {
   "cell_type": "markdown",
   "metadata": {},
   "source": [
    "Now we can iterate over the directories in each of our random directories using the same technique as above and parse for only those directories that include `19` for the 2019 meet data.  Once we have those directories, we simply open them and grab the `entries.csv` file and proceed accordingly."
   ]
  },
  {
   "cell_type": "code",
   "execution_count": 4,
   "metadata": {},
   "outputs": [
    {
     "name": "stdout",
     "output_type": "stream",
     "text": [
      "apf ...\n",
      "wpau ...\n",
      "xpc ...\n",
      "bpu ...\n",
      "ireland-ua ...\n",
      "raw-iceland ...\n",
      "bb ...\n",
      "rawu ...\n",
      "bpc ...\n",
      "naurupf ...\n",
      "belpf ...\n",
      "chinapa ...\n",
      "ukrainepa ...\n",
      "achipo ...\n",
      "aap ...\n"
     ]
    }
   ],
   "source": [
    "import pandas as pd\n",
    "import time\n",
    "\n",
    "template = \"https://gitlab.com/openpowerlifting/opl-data/raw/master/meet-data/{}/{}/entries.csv\"\n",
    "df = pd.DataFrame()\n",
    "\n",
    "for f in lst_fed[:15]:\n",
    "\n",
    "    try:\n",
    "        page = requests.get(\"https://gitlab.com/openpowerlifting/opl-data/tree/master/meet-data/{}\".format(f)).content\n",
    "        doc = BeautifulSoup(page)\n",
    "        lst_2019 = [i['title'] for i in doc.find_all(class_='str-truncated') if i['title'][:2] == '19']\n",
    "\n",
    "        for y in lst_2019:\n",
    "            sample = template.format(f, y)\n",
    "            df = pd.concat([df, pd.read_csv(sample)], sort=False)\n",
    "\n",
    "        print(\"{} ...\".format(f))\n",
    "        time.sleep(1.5)\n",
    "    except Exception as e:\n",
    "        print(\"X {} ...\".format(f))"
   ]
  },
  {
   "cell_type": "markdown",
   "metadata": {},
   "source": [
    "You will notice that the index needs to be reset with `reset_index`, with something like\n",
    "\n",
    "```python\n",
    "\n",
    "df = df.reset_index()\n",
    "\n",
    "```"
   ]
  },
  {
   "cell_type": "markdown",
   "metadata": {},
   "source": [
    "Review the original homework writeup to use `plot()` to create the require plots and execute the required queries.\n",
    "\n",
    "To show a brief example of how to execute an ad hoc query of getting all participants who are 29 years of age."
   ]
  },
  {
   "cell_type": "code",
   "execution_count": 5,
   "metadata": {},
   "outputs": [
    {
     "data": {
      "text/html": [
       "<div>\n",
       "<style scoped>\n",
       "    .dataframe tbody tr th:only-of-type {\n",
       "        vertical-align: middle;\n",
       "    }\n",
       "\n",
       "    .dataframe tbody tr th {\n",
       "        vertical-align: top;\n",
       "    }\n",
       "\n",
       "    .dataframe thead th {\n",
       "        text-align: right;\n",
       "    }\n",
       "</style>\n",
       "<table border=\"1\" class=\"dataframe\">\n",
       "  <thead>\n",
       "    <tr style=\"text-align: right;\">\n",
       "      <th></th>\n",
       "      <th>Name</th>\n",
       "      <th>Age</th>\n",
       "      <th>Sex</th>\n",
       "      <th>Equipment</th>\n",
       "      <th>Division</th>\n",
       "      <th>BodyweightKg</th>\n",
       "      <th>WeightClassKg</th>\n",
       "      <th>Squat1Kg</th>\n",
       "      <th>Squat2Kg</th>\n",
       "      <th>Squat3Kg</th>\n",
       "      <th>...</th>\n",
       "      <th>Tested</th>\n",
       "      <th>BirthDate</th>\n",
       "      <th>Team</th>\n",
       "      <th>Squat4Kg</th>\n",
       "      <th>Bench4Kg</th>\n",
       "      <th>Deadlift4Kg</th>\n",
       "      <th>Country</th>\n",
       "      <th>State</th>\n",
       "      <th>CyrillicName</th>\n",
       "      <th>BirthYear</th>\n",
       "    </tr>\n",
       "  </thead>\n",
       "  <tbody>\n",
       "    <tr>\n",
       "      <th>25</th>\n",
       "      <td>Christina Brown</td>\n",
       "      <td>29.0</td>\n",
       "      <td>F</td>\n",
       "      <td>Wraps</td>\n",
       "      <td>F_OCR_APF</td>\n",
       "      <td>66.80</td>\n",
       "      <td>67.5</td>\n",
       "      <td>132.5</td>\n",
       "      <td>140.0</td>\n",
       "      <td>145.0</td>\n",
       "      <td>...</td>\n",
       "      <td>No</td>\n",
       "      <td>NaN</td>\n",
       "      <td>NaN</td>\n",
       "      <td>NaN</td>\n",
       "      <td>NaN</td>\n",
       "      <td>NaN</td>\n",
       "      <td>NaN</td>\n",
       "      <td>NaN</td>\n",
       "      <td>NaN</td>\n",
       "      <td>NaN</td>\n",
       "    </tr>\n",
       "    <tr>\n",
       "      <th>27</th>\n",
       "      <td>Michael Walker #2</td>\n",
       "      <td>29.0</td>\n",
       "      <td>M</td>\n",
       "      <td>Wraps</td>\n",
       "      <td>M_OCR_APF</td>\n",
       "      <td>97.07</td>\n",
       "      <td>100</td>\n",
       "      <td>227.5</td>\n",
       "      <td>247.5</td>\n",
       "      <td>-265.0</td>\n",
       "      <td>...</td>\n",
       "      <td>NaN</td>\n",
       "      <td>NaN</td>\n",
       "      <td>NaN</td>\n",
       "      <td>NaN</td>\n",
       "      <td>NaN</td>\n",
       "      <td>NaN</td>\n",
       "      <td>NaN</td>\n",
       "      <td>NaN</td>\n",
       "      <td>NaN</td>\n",
       "      <td>NaN</td>\n",
       "    </tr>\n",
       "    <tr>\n",
       "      <th>30</th>\n",
       "      <td>Newin Spencer</td>\n",
       "      <td>29.0</td>\n",
       "      <td>M</td>\n",
       "      <td>Wraps</td>\n",
       "      <td>M_OCR_APF</td>\n",
       "      <td>102.97</td>\n",
       "      <td>110</td>\n",
       "      <td>237.5</td>\n",
       "      <td>262.5</td>\n",
       "      <td>-267.5</td>\n",
       "      <td>...</td>\n",
       "      <td>NaN</td>\n",
       "      <td>NaN</td>\n",
       "      <td>NaN</td>\n",
       "      <td>NaN</td>\n",
       "      <td>NaN</td>\n",
       "      <td>NaN</td>\n",
       "      <td>NaN</td>\n",
       "      <td>NaN</td>\n",
       "      <td>NaN</td>\n",
       "      <td>NaN</td>\n",
       "    </tr>\n",
       "    <tr>\n",
       "      <th>29</th>\n",
       "      <td>Eric Couthen</td>\n",
       "      <td>29.0</td>\n",
       "      <td>M</td>\n",
       "      <td>Wraps</td>\n",
       "      <td>M_OCR_AAPF</td>\n",
       "      <td>113.60</td>\n",
       "      <td>125</td>\n",
       "      <td>265.0</td>\n",
       "      <td>280.0</td>\n",
       "      <td>285.0</td>\n",
       "      <td>...</td>\n",
       "      <td>Yes</td>\n",
       "      <td>NaN</td>\n",
       "      <td>NaN</td>\n",
       "      <td>NaN</td>\n",
       "      <td>NaN</td>\n",
       "      <td>NaN</td>\n",
       "      <td>NaN</td>\n",
       "      <td>NaN</td>\n",
       "      <td>NaN</td>\n",
       "      <td>NaN</td>\n",
       "    </tr>\n",
       "    <tr>\n",
       "      <th>46</th>\n",
       "      <td>Jonathan Stroth</td>\n",
       "      <td>29.0</td>\n",
       "      <td>M</td>\n",
       "      <td>Raw</td>\n",
       "      <td>M_OR_APF</td>\n",
       "      <td>93.20</td>\n",
       "      <td>100</td>\n",
       "      <td>170.0</td>\n",
       "      <td>180.0</td>\n",
       "      <td>185.0</td>\n",
       "      <td>...</td>\n",
       "      <td>NaN</td>\n",
       "      <td>NaN</td>\n",
       "      <td>NaN</td>\n",
       "      <td>NaN</td>\n",
       "      <td>NaN</td>\n",
       "      <td>NaN</td>\n",
       "      <td>NaN</td>\n",
       "      <td>NaN</td>\n",
       "      <td>NaN</td>\n",
       "      <td>NaN</td>\n",
       "    </tr>\n",
       "  </tbody>\n",
       "</table>\n",
       "<p>5 rows × 32 columns</p>\n",
       "</div>"
      ],
      "text/plain": [
       "                 Name   Age Sex Equipment    Division  BodyweightKg  \\\n",
       "25    Christina Brown  29.0   F     Wraps   F_OCR_APF         66.80   \n",
       "27  Michael Walker #2  29.0   M     Wraps   M_OCR_APF         97.07   \n",
       "30      Newin Spencer  29.0   M     Wraps   M_OCR_APF        102.97   \n",
       "29       Eric Couthen  29.0   M     Wraps  M_OCR_AAPF        113.60   \n",
       "46    Jonathan Stroth  29.0   M       Raw    M_OR_APF         93.20   \n",
       "\n",
       "   WeightClassKg  Squat1Kg  Squat2Kg  Squat3Kg  ...  Tested  BirthDate  Team  \\\n",
       "25          67.5     132.5     140.0     145.0  ...      No        NaN   NaN   \n",
       "27           100     227.5     247.5    -265.0  ...     NaN        NaN   NaN   \n",
       "30           110     237.5     262.5    -267.5  ...     NaN        NaN   NaN   \n",
       "29           125     265.0     280.0     285.0  ...     Yes        NaN   NaN   \n",
       "46           100     170.0     180.0     185.0  ...     NaN        NaN   NaN   \n",
       "\n",
       "    Squat4Kg  Bench4Kg  Deadlift4Kg  Country  State  CyrillicName  BirthYear  \n",
       "25       NaN       NaN          NaN      NaN    NaN           NaN        NaN  \n",
       "27       NaN       NaN          NaN      NaN    NaN           NaN        NaN  \n",
       "30       NaN       NaN          NaN      NaN    NaN           NaN        NaN  \n",
       "29       NaN       NaN          NaN      NaN    NaN           NaN        NaN  \n",
       "46       NaN       NaN          NaN      NaN    NaN           NaN        NaN  \n",
       "\n",
       "[5 rows x 32 columns]"
      ]
     },
     "execution_count": 5,
     "metadata": {},
     "output_type": "execute_result"
    }
   ],
   "source": [
    "df.query('Age == 29').head()"
   ]
  },
  {
   "cell_type": "markdown",
   "metadata": {},
   "source": [
    "Remember that `df.columns` will list all the columns in the dataset."
   ]
  },
  {
   "cell_type": "markdown",
   "metadata": {},
   "source": [
    "This example gets the average weight of 29 year old Males."
   ]
  },
  {
   "cell_type": "code",
   "execution_count": 6,
   "metadata": {},
   "outputs": [
    {
     "data": {
      "text/plain": [
       "99.8363963963964"
      ]
     },
     "execution_count": 6,
     "metadata": {},
     "output_type": "execute_result"
    }
   ],
   "source": [
    "df.query('Age==29 & Sex==\"M\"').loc[:,'BodyweightKg'].mean() "
   ]
  },
  {
   "cell_type": "code",
   "execution_count": 7,
   "metadata": {},
   "outputs": [
    {
     "data": {
      "text/plain": [
       "220.10157779478197"
      ]
     },
     "execution_count": 7,
     "metadata": {},
     "output_type": "execute_result"
    }
   ],
   "source": [
    "df.query('Age==29 & Sex==\"M\"').loc[:,'BodyweightKg'].mean()  * 2.20462262 # go ahead and convert to lbs"
   ]
  }
 ],
 "metadata": {
  "kernelspec": {
   "display_name": "Python 3",
   "language": "python",
   "name": "python3"
  },
  "language_info": {
   "codemirror_mode": {
    "name": "ipython",
    "version": 3
   },
   "file_extension": ".py",
   "mimetype": "text/x-python",
   "name": "python",
   "nbconvert_exporter": "python",
   "pygments_lexer": "ipython3",
   "version": "3.7.3"
  }
 },
 "nbformat": 4,
 "nbformat_minor": 4
}
